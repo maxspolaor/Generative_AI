{
 "cells": [
  {
   "cell_type": "code",
   "execution_count": 1,
   "id": "fe077622",
   "metadata": {},
   "outputs": [],
   "source": [
    "from dotenv import load_dotenv\n",
    "from openai import OpenAI\n",
    "from pypdf import PdfReader\n",
    "import gradio as gr\n",
    "import os"
   ]
  },
  {
   "cell_type": "code",
   "execution_count": 2,
   "id": "43e07803",
   "metadata": {},
   "outputs": [
    {
     "name": "stdout",
     "output_type": "stream",
     "text": [
      "OpenAI API Key exists and begins sk-proj-\n"
     ]
    }
   ],
   "source": [
    "# Check the key - if you're not using OpenAI, check whichever key you're using! Ollama doesn't need a key.\n",
    "\n",
    "import os\n",
    "openai_api_key = os.getenv('OPENAI_API_KEY')\n",
    "\n",
    "if openai_api_key:\n",
    "    print(f\"OpenAI API Key exists and begins {openai_api_key[:8]}\")\n",
    "else:\n",
    "    print(\"OpenAI API Key not set - please head to the troubleshooting guide in the setup folder\")\n",
    "    \n"
   ]
  },
  {
   "cell_type": "code",
   "execution_count": 3,
   "id": "279bb66c",
   "metadata": {},
   "outputs": [],
   "source": [
    "load_dotenv(override=True)\n",
    "openai = OpenAI(api_key=os.getenv(\"OPENAI_API_KEY\"))"
   ]
  },
  {
   "cell_type": "code",
   "execution_count": 4,
   "id": "598e7d73",
   "metadata": {},
   "outputs": [
    {
     "name": "stdout",
     "output_type": "stream",
     "text": [
      "Max Spolaor, Ph.D. max.spolaor@aero.org\n",
      "Clearance Status\n",
      "· TS/SCI with C.I. polygraph. Adjudicated on 4/29/2021.\n",
      "Education\n",
      "Doctor of Philosophy in Astrophysics 2010\n",
      "Centre for Astrophysics and Supercomputing, Swinburne University of Technology, Australia\n",
      "· Developed data-intensive, high-performance simulations and advanced statistical tools (i.e.,\n",
      "artiﬁcial intelligence/machine learning) for modeling complex astrophysical processes.\n",
      "· Awarded the Faculty of Information Technologies Research Thesis Excellence Award.\n",
      "· Awarded the Charlene Heisler Prize for the most outstanding Ph.D. thesis in Australia.\n",
      "Bachelor of Science (Honors), Physics and Physical Technologies 2005\n",
      "Department of Physics, University of Trieste, Italy\n",
      "Professional Experience\n",
      "Senior Project Engineer - Technical Program Management Oﬃce\n",
      "The Aerospace Corporation 12/2024 - present\n",
      "· Led the Missions & Ecosystems and Demonstration Infrastructure focus areas of the\n",
      "NASA-sponsored Consortium for Space Mobility and ISAM Capabilities (ISAM: In-Space\n",
      "Servicing, Assembly, and Manufacturing. COSMIC: cosmicspace.org). Developed their mission,\n",
      "vision, and strategy. Contributed to the development of several ISAM-related technical products.\n",
      "· Engaged in partnership development and customer relations to advance ISAM research and\n",
      "development, prioritize the expansion of scalable ISAM capabilities, and promote collaborations\n",
      "across US-based companies, universities, and government agencies (NASA, DoD, IC).\n",
      "Senior Engineering Specialist - Data Science/Big Data Mining and Artiﬁcial Intelligence\n",
      "The Aerospace Corporation 10/2020 - 11/2024\n",
      "· Provided innovative AI/ML, data science, software and systems engineering technical contributions\n",
      "and project management direction to 40+ interdisciplinary projects across multiple Aerospace’s\n",
      "customers (i.e., DoD, IC, NASA) and departments.\n",
      "· Contributed technical and strategic leadership for the ETG’s General Managers, VP, and OCTO in\n",
      "designing, road-mapping, and building community and corporate eﬀorts on the topics of: MLOps,\n",
      "MLSecOps, TrustedAI, Digital Fluency, Generative AI, AI at the Edge, and Autonomy.\n",
      "· Supervised and mentored 40+ junior and mid-level engineers across 10+ diﬀerent Aerospace\n",
      "departments.\n",
      "· Elected chair of the Space ISAC AI/ML Community of Interest. Authored and coordinated the\n",
      "development of two MLSecOps-related papers at the intersection of AI and Cyber for space\n",
      "systems.\n",
      "· Conceptualized the idea of an end-to-end V&V testbed for autonomous systems. Designed the\n",
      "software architecture and cloud computing infrastructure. Led the tehcnical development from ”on\n",
      "paper” stage to ﬁnal deployment and usage of the V&V testbed.\n",
      "(Page 1 of 3)Max Spolaor, Ph.D. max.spolaor@aero.org\n",
      "Professional Experience (continued)\n",
      "Chief Scientist (01/2019 - 10/2020) and Senior Systems Engineer 03/2017 - 10/2020\n",
      "NASA Independent Veriﬁcation & Validation (IV&V), Fairmont, WV - TMC Technologies\n",
      "· Designed, built, and delivered software applications using AI/ML techniques to improve\n",
      "hardware-in-the-loop and software-only modeling & simulation capabilities for mission assurance of\n",
      "spacecraft hardware and software.\n",
      "· Managed and led the development of AI-enabled applications for advanced data-driven V&V\n",
      "testing of mission-critical spacecraft ﬂight software, hardware, and sensors.\n",
      "· Delivered an experimental AI-enabled application, deployed on a CubeSat, capable of real-time\n",
      "anomaly detection and autonomous command and control operations of a spacecraft’s sensor.\n",
      "· Contributed to the ﬂight software (http://www.stf1.com/NOS3Website/Nos3MainTab.php) and\n",
      "hardware development of the NASA Simulation-to-Flight 1 (STF-1) CubeSat (http://stf1.com/).\n",
      "Software Engineer III 04/2014 - 02/2017\n",
      "National Radio Astronomy Observatory (NRAO), Karl G. Jansky Very Large Array, Socorro NM\n",
      "· Maintained and enhanced 500,000 lines of Java, C/C++, and CUDA code used to operate and\n",
      "correlate large amount of data of the world’s most powerful array of radio-telescope antennas.\n",
      "· Utilized object-oriented and parallel programming techniques to develop code that allowed the\n",
      "autonomous operation of multiple sub-arrays of antennas in parallel.\n",
      "· Implemented GPU-accelerated statistical software solutions for real-time monitoring and analysis of\n",
      "large amount of engineering and scientiﬁc data (e.g., GBps telemetry data stream).\n",
      "UCLA/NASA Airborne Remote Sensing Postdoctoral Scholar 08/2011 - 04/2014\n",
      "University of California Los Angeles, Department of Atmospheric and Oceanic Sciences\n",
      "NASA Airborne Science Program, Armstrong Flight Research Center, Edwards Air Force Base\n",
      "· Developed ground and ﬂight software for operating autonomous remote sensing payloads of the\n",
      "NASA Global Hawk unmanned aerial vehicle and the NSF C-130 Hercules aircraft.\n",
      "· Designed data-science-based tools for performance monitoring and real-time troubleshooting of data\n",
      "acquisition and processing software via satellite link.\n",
      "· Created statistics-driven space physics simulations to detect and predict anomalies of\n",
      "mission-critical software for remote sensing payloads.\n",
      "· Led software support during ground, launch, and post-mission operational phases: U.S. Air Force\n",
      "CONUS/OCONUS base deployments; 100+ ﬂights, 1000+ ﬂight hours.\n",
      "Instrument Scientist and Research Fellow 06/2010 - 08/2011\n",
      "Australian Astronomical Observatory, Australia\n",
      "· Managed software and engineering operations of ground-based remote sensing instrumentation.\n",
      "· Optimized C++ algorithms for signal processing, target detection, and big-data visualization.\n",
      "(Page 2 of 3)Max Spolaor, Ph.D. max.spolaor@aero.org\n",
      "Technical Expertise\n",
      "· Aerospace: Core Flight Software (NASA-cFS); NASA Operational Simulation for Small Satellites\n",
      "(NOS3); NASA OpenSatKit; SLS, ICPS and PSP ﬂight software; SpaceX Autonomous Flight\n",
      "Termination System ﬂight software (AFTS); AIT, COSMOS, and AWS ground stations; CubeSat\n",
      "development and operations (STF-1); NASA 42 spacecraft attitude and orbital dynamic simulator;\n",
      "RTOS and RTEMS fundamentals.\n",
      "· Programming Languages: C, C++, Python, Java.\n",
      "· AI and Big-Data: Numpy, Pandas, SciKit-Learn, TensorFlow, Keras, PyTorch, CUDA-GPU,\n",
      "databases (SQL, NoSQL, Vector), MLOps, MLSecOps, Docker, Kubernetes, traditional Machine\n",
      "Learning, Deep Learning and Reinforced Learning, Time Series Data Analysis and Anomaly\n",
      "Detection, Generative AI technologies (e.g., RAG, LLMs, LangChain, LangGraph) and Agentic AI\n",
      "(e.g., OpenAI Agents SDK, MCP, AutoGen).\n",
      "· Others: Project management; software test and evaluation; remote sensing instrumentation\n",
      "development; research and development; research paper and grant-writing.\n",
      "Verbal and Written Communication Skills\n",
      "· Presented 100+ lectures to multi-disciplinary audiences, including project stakeholder meetings.\n",
      "· Authored 100+ scientiﬁc documents, including: progress and technical reports; software technical\n",
      "documentation; scientiﬁc publications in international journals including Nature and Science.\n",
      "Honors and Awards\n",
      "· The Aerospace Corporation, PRP Award, 2025\n",
      "· The Aerospace Corporation, Civil Systems Group Award, 2024\n",
      "· The Aerospace Corporation, Aerospace Patent Invention Award, 2024\n",
      "· The Aerospace Corporation, PRP Award, 2023\n",
      "· The Aerospace Corporation, Team Achievement Award - Team AI Sandbox, 2023\n",
      "· Adjunct Professor - West Virginia University, Department of Physics & Astronomy, 2022 - present\n",
      "· The Aerospace Corporation, PRP Award, 2022\n",
      "· The Aerospace Corporation, SPOT Award, 2021\n",
      "· NASA IV&V Project Achievement Award, 2019\n",
      "· NASA IV&V Excellence in Leadership Award, 2018\n",
      "· NASA IV&V Excellence in Values Award, 2018\n",
      "· NASA IV&V Project Achievement Award, 2018\n",
      "· NASA Group Achievement Award, 2016\n",
      "· Charlene Heisler Prize. Astronomical Society of Australia, 2011\n",
      "· FICT Research Thesis Excellence Award. Swinburne University of Technology, 2009\n",
      "(Page 3 of 3)\n"
     ]
    }
   ],
   "source": [
    "reader = PdfReader(\"./resume/Max_Spolaor_Resume.pdf\")\n",
    "linkedin = \"\"\n",
    "for page in reader.pages:\n",
    "    text = page.extract_text()\n",
    "    if text:\n",
    "        linkedin += text\n",
    "\n",
    "print(linkedin)"
   ]
  },
  {
   "cell_type": "code",
   "execution_count": 5,
   "id": "dd5c751c",
   "metadata": {},
   "outputs": [],
   "source": [
    "with open(\"resume/summary.txt\",\"r\") as f:\n",
    "    summary = f.read()"
   ]
  },
  {
   "cell_type": "code",
   "execution_count": 6,
   "id": "3f026db2",
   "metadata": {},
   "outputs": [],
   "source": [
    "name = \"Max Spolaor\""
   ]
  },
  {
   "cell_type": "code",
   "execution_count": 7,
   "id": "cde2664d",
   "metadata": {},
   "outputs": [],
   "source": [
    "system_prompt = f\"You are acting as {name}. You are answering questions on {name}'s website, \\\n",
    "particularly questions related to {name}'s career, background, skills and experience. \\\n",
    "Your responsibility is to represent {name} for interactions on the website as faithfully as possible. \\\n",
    "You are given a summary of {name}'s background and LinkedIn profile which you can use to answer questions. \\\n",
    "Be professional and engaging, as if talking to a potential client or future employer who came across the website. \\\n",
    "If you don't know the answer, say so.\"\n",
    "\n",
    "system_prompt += f\"\\n\\n## Summary: \\n{summary}\\n\\n## LinkedIn profile:\\n{linkedin}\\n\\n\"\n",
    "system_prompt += f\"With this context, please chat with the user, always staying in character as {name}.\"\n"
   ]
  },
  {
   "cell_type": "code",
   "execution_count": 8,
   "id": "d48a496f",
   "metadata": {},
   "outputs": [
    {
     "data": {
      "text/plain": [
       "\"You are acting as Max Spolaor. You are answering questions on Max Spolaor's website, particularly questions related to Max Spolaor's career, background, skills and experience. Your responsibility is to represent Max Spolaor for interactions on the website as faithfully as possible. You are given a summary of Max Spolaor's background and LinkedIn profile which you can use to answer questions. Be professional and engaging, as if talking to a potential client or future employer who came across the website. If you don't know the answer, say so.\\n\\n## Summary: \\nMy name is Max Spolaor. I'm a software and systems engineer, and data scientist. I'm originally from Italy, but I moved to Australia in 2005 and in the USA in 2010. \\n\\n\\n## LinkedIn profile:\\nMax Spolaor, Ph.D. max.spolaor@aero.org\\nClearance Status\\n· TS/SCI with C.I. polygraph. Adjudicated on 4/29/2021.\\nEducation\\nDoctor of Philosophy in Astrophysics 2010\\nCentre for Astrophysics and Supercomputing, Swinburne University of Technology, Australia\\n· Developed data-intensive, high-performance simulations and advanced statistical tools (i.e.,\\nartiﬁcial intelligence/machine learning) for modeling complex astrophysical processes.\\n· Awarded the Faculty of Information Technologies Research Thesis Excellence Award.\\n· Awarded the Charlene Heisler Prize for the most outstanding Ph.D. thesis in Australia.\\nBachelor of Science (Honors), Physics and Physical Technologies 2005\\nDepartment of Physics, University of Trieste, Italy\\nProfessional Experience\\nSenior Project Engineer - Technical Program Management Oﬃce\\nThe Aerospace Corporation 12/2024 - present\\n· Led the Missions & Ecosystems and Demonstration Infrastructure focus areas of the\\nNASA-sponsored Consortium for Space Mobility and ISAM Capabilities (ISAM: In-Space\\nServicing, Assembly, and Manufacturing. COSMIC: cosmicspace.org). Developed their mission,\\nvision, and strategy. Contributed to the development of several ISAM-related technical products.\\n· Engaged in partnership development and customer relations to advance ISAM research and\\ndevelopment, prioritize the expansion of scalable ISAM capabilities, and promote collaborations\\nacross US-based companies, universities, and government agencies (NASA, DoD, IC).\\nSenior Engineering Specialist - Data Science/Big Data Mining and Artiﬁcial Intelligence\\nThe Aerospace Corporation 10/2020 - 11/2024\\n· Provided innovative AI/ML, data science, software and systems engineering technical contributions\\nand project management direction to 40+ interdisciplinary projects across multiple Aerospace’s\\ncustomers (i.e., DoD, IC, NASA) and departments.\\n· Contributed technical and strategic leadership for the ETG’s General Managers, VP, and OCTO in\\ndesigning, road-mapping, and building community and corporate eﬀorts on the topics of: MLOps,\\nMLSecOps, TrustedAI, Digital Fluency, Generative AI, AI at the Edge, and Autonomy.\\n· Supervised and mentored 40+ junior and mid-level engineers across 10+ diﬀerent Aerospace\\ndepartments.\\n· Elected chair of the Space ISAC AI/ML Community of Interest. Authored and coordinated the\\ndevelopment of two MLSecOps-related papers at the intersection of AI and Cyber for space\\nsystems.\\n· Conceptualized the idea of an end-to-end V&V testbed for autonomous systems. Designed the\\nsoftware architecture and cloud computing infrastructure. Led the tehcnical development from ”on\\npaper” stage to ﬁnal deployment and usage of the V&V testbed.\\n(Page 1 of 3)Max Spolaor, Ph.D. max.spolaor@aero.org\\nProfessional Experience (continued)\\nChief Scientist (01/2019 - 10/2020) and Senior Systems Engineer 03/2017 - 10/2020\\nNASA Independent Veriﬁcation & Validation (IV&V), Fairmont, WV - TMC Technologies\\n· Designed, built, and delivered software applications using AI/ML techniques to improve\\nhardware-in-the-loop and software-only modeling & simulation capabilities for mission assurance of\\nspacecraft hardware and software.\\n· Managed and led the development of AI-enabled applications for advanced data-driven V&V\\ntesting of mission-critical spacecraft ﬂight software, hardware, and sensors.\\n· Delivered an experimental AI-enabled application, deployed on a CubeSat, capable of real-time\\nanomaly detection and autonomous command and control operations of a spacecraft’s sensor.\\n· Contributed to the ﬂight software (http://www.stf1.com/NOS3Website/Nos3MainTab.php) and\\nhardware development of the NASA Simulation-to-Flight 1 (STF-1) CubeSat (http://stf1.com/).\\nSoftware Engineer III 04/2014 - 02/2017\\nNational Radio Astronomy Observatory (NRAO), Karl G. Jansky Very Large Array, Socorro NM\\n· Maintained and enhanced 500,000 lines of Java, C/C++, and CUDA code used to operate and\\ncorrelate large amount of data of the world’s most powerful array of radio-telescope antennas.\\n· Utilized object-oriented and parallel programming techniques to develop code that allowed the\\nautonomous operation of multiple sub-arrays of antennas in parallel.\\n· Implemented GPU-accelerated statistical software solutions for real-time monitoring and analysis of\\nlarge amount of engineering and scientiﬁc data (e.g., GBps telemetry data stream).\\nUCLA/NASA Airborne Remote Sensing Postdoctoral Scholar 08/2011 - 04/2014\\nUniversity of California Los Angeles, Department of Atmospheric and Oceanic Sciences\\nNASA Airborne Science Program, Armstrong Flight Research Center, Edwards Air Force Base\\n· Developed ground and ﬂight software for operating autonomous remote sensing payloads of the\\nNASA Global Hawk unmanned aerial vehicle and the NSF C-130 Hercules aircraft.\\n· Designed data-science-based tools for performance monitoring and real-time troubleshooting of data\\nacquisition and processing software via satellite link.\\n· Created statistics-driven space physics simulations to detect and predict anomalies of\\nmission-critical software for remote sensing payloads.\\n· Led software support during ground, launch, and post-mission operational phases: U.S. Air Force\\nCONUS/OCONUS base deployments; 100+ ﬂights, 1000+ ﬂight hours.\\nInstrument Scientist and Research Fellow 06/2010 - 08/2011\\nAustralian Astronomical Observatory, Australia\\n· Managed software and engineering operations of ground-based remote sensing instrumentation.\\n· Optimized C++ algorithms for signal processing, target detection, and big-data visualization.\\n(Page 2 of 3)Max Spolaor, Ph.D. max.spolaor@aero.org\\nTechnical Expertise\\n· Aerospace: Core Flight Software (NASA-cFS); NASA Operational Simulation for Small Satellites\\n(NOS3); NASA OpenSatKit; SLS, ICPS and PSP ﬂight software; SpaceX Autonomous Flight\\nTermination System ﬂight software (AFTS); AIT, COSMOS, and AWS ground stations; CubeSat\\ndevelopment and operations (STF-1); NASA 42 spacecraft attitude and orbital dynamic simulator;\\nRTOS and RTEMS fundamentals.\\n· Programming Languages: C, C++, Python, Java.\\n· AI and Big-Data: Numpy, Pandas, SciKit-Learn, TensorFlow, Keras, PyTorch, CUDA-GPU,\\ndatabases (SQL, NoSQL, Vector), MLOps, MLSecOps, Docker, Kubernetes, traditional Machine\\nLearning, Deep Learning and Reinforced Learning, Time Series Data Analysis and Anomaly\\nDetection, Generative AI technologies (e.g., RAG, LLMs, LangChain, LangGraph) and Agentic AI\\n(e.g., OpenAI Agents SDK, MCP, AutoGen).\\n· Others: Project management; software test and evaluation; remote sensing instrumentation\\ndevelopment; research and development; research paper and grant-writing.\\nVerbal and Written Communication Skills\\n· Presented 100+ lectures to multi-disciplinary audiences, including project stakeholder meetings.\\n· Authored 100+ scientiﬁc documents, including: progress and technical reports; software technical\\ndocumentation; scientiﬁc publications in international journals including Nature and Science.\\nHonors and Awards\\n· The Aerospace Corporation, PRP Award, 2025\\n· The Aerospace Corporation, Civil Systems Group Award, 2024\\n· The Aerospace Corporation, Aerospace Patent Invention Award, 2024\\n· The Aerospace Corporation, PRP Award, 2023\\n· The Aerospace Corporation, Team Achievement Award - Team AI Sandbox, 2023\\n· Adjunct Professor - West Virginia University, Department of Physics & Astronomy, 2022 - present\\n· The Aerospace Corporation, PRP Award, 2022\\n· The Aerospace Corporation, SPOT Award, 2021\\n· NASA IV&V Project Achievement Award, 2019\\n· NASA IV&V Excellence in Leadership Award, 2018\\n· NASA IV&V Excellence in Values Award, 2018\\n· NASA IV&V Project Achievement Award, 2018\\n· NASA Group Achievement Award, 2016\\n· Charlene Heisler Prize. Astronomical Society of Australia, 2011\\n· FICT Research Thesis Excellence Award. Swinburne University of Technology, 2009\\n(Page 3 of 3)\\n\\nWith this context, please chat with the user, always staying in character as Max Spolaor.\""
      ]
     },
     "execution_count": 8,
     "metadata": {},
     "output_type": "execute_result"
    }
   ],
   "source": [
    "system_prompt \n"
   ]
  },
  {
   "cell_type": "code",
   "execution_count": 9,
   "id": "417df0c7",
   "metadata": {},
   "outputs": [],
   "source": [
    "def chat(message, history):\n",
    "    messages = [{'role': 'system', 'content': system_prompt}] + history + [{'role': 'user', 'content': message}]\n",
    "    response = openai.chat.completions.create(\n",
    "        model=\"gpt-4o-mini\",\n",
    "        messages=messages,\n",
    "        temperature=0.3,\n",
    "        max_tokens=1000,\n",
    "        top_p=1,\n",
    "        frequency_penalty=0,\n",
    "        presence_penalty=0,\n",
    "    )\n",
    "    return response.choices[0].message.content"
   ]
  },
  {
   "cell_type": "code",
   "execution_count": 10,
   "id": "b6bee36e",
   "metadata": {},
   "outputs": [
    {
     "name": "stdout",
     "output_type": "stream",
     "text": [
      "* Running on local URL:  http://127.0.0.1:7860\n",
      "* To create a public link, set `share=True` in `launch()`.\n"
     ]
    },
    {
     "data": {
      "text/html": [
       "<div><iframe src=\"http://127.0.0.1:7860/\" width=\"100%\" height=\"500\" allow=\"autoplay; camera; microphone; clipboard-read; clipboard-write;\" frameborder=\"0\" allowfullscreen></iframe></div>"
      ],
      "text/plain": [
       "<IPython.core.display.HTML object>"
      ]
     },
     "metadata": {},
     "output_type": "display_data"
    },
    {
     "data": {
      "text/plain": []
     },
     "execution_count": 10,
     "metadata": {},
     "output_type": "execute_result"
    }
   ],
   "source": [
    "gr.ChatInterface(chat, title=\"Max Spolaor Resume ChatBot\", theme=\"soft\", type=\"messages\").launch()"
   ]
  },
  {
   "cell_type": "code",
   "execution_count": 11,
   "id": "52943a14",
   "metadata": {},
   "outputs": [],
   "source": [
    "from pydantic import BaseModel\n",
    "\n",
    "class Evaluation(BaseModel):\n",
    "    is_acceptable: bool\n",
    "    feedback: str"
   ]
  },
  {
   "cell_type": "code",
   "execution_count": 12,
   "id": "ae82fe90",
   "metadata": {},
   "outputs": [],
   "source": [
    "evaluator_system_prompt = f\"You are an evaluator that decides whether a response to a question is acceptable. \\\n",
    "You are provided with a conversation between a User and an Agent. Your task is to decide whether the Agent's latest response is acceptable quality. \\\n",
    "The Agent is playing the role of {name} and is representing {name} on their website. \\\n",
    "The Agent has been instructed to be professional and engaging, as if talking to a potential client or future employer who came across the website. \\\n",
    "The Agent has been provided with context on {name} in the form of their summary and LinkedIn details. Here's the information:\"\n",
    "\n",
    "evaluator_system_prompt += f\"\\n\\n## Summary:\\n{summary}\\n\\n## LinkedIn Profile:\\n{linkedin}\\n\\n\"\n",
    "evaluator_system_prompt += f\"With this context, please evaluate the latest response, replying with whether the response is acceptable and your feedback.\""
   ]
  },
  {
   "cell_type": "code",
   "execution_count": 13,
   "id": "73940e0f",
   "metadata": {},
   "outputs": [],
   "source": [
    "def evaluator_user_prompt(reply, message, history):\n",
    "    user_prompt = f\"Here's the conversation between the User and the Agent: \\n\\n{history}\\n\\n\"\n",
    "    user_prompt += f\"Here's the latest message from the User: \\n\\n{message}\\n\\n\"\n",
    "    user_prompt += f\"Here's the latest response from the Agent: \\n\\n{reply}\\n\\n\"\n",
    "    user_prompt += \"Please evaluate the response, replying with whether it is acceptable and your feedback.\"\n",
    "    return user_prompt"
   ]
  },
  {
   "cell_type": "code",
   "execution_count": 14,
   "id": "0caf5a3b",
   "metadata": {},
   "outputs": [],
   "source": [
    "import os\n",
    "gemini = OpenAI(\n",
    "    api_key=os.getenv(\"GOOGLE_API_KEY\"), \n",
    "    base_url=\"https://generativelanguage.googleapis.com/v1beta/openai/\"\n",
    ")"
   ]
  },
  {
   "cell_type": "code",
   "execution_count": 15,
   "id": "e1335a72",
   "metadata": {},
   "outputs": [],
   "source": [
    "def evaluate(reply, message, history) -> Evaluation:\n",
    "\n",
    "    messages = [{\"role\": \"system\", \"content\": evaluator_system_prompt}] + [{\"role\": \"user\", \"content\": evaluator_user_prompt(reply, message, history)}]\n",
    "    response = gemini.beta.chat.completions.parse(model=\"gemini-2.0-flash\", messages=messages, response_format=Evaluation)\n",
    "    return response.choices[0].message.parsed"
   ]
  },
  {
   "cell_type": "code",
   "execution_count": 16,
   "id": "a62c63f2",
   "metadata": {},
   "outputs": [],
   "source": [
    "messages = [{\"role\": \"system\", \"content\": system_prompt}] + [{\"role\": \"user\", \"content\": \"do you hold a patent?\"}]\n",
    "response = openai.chat.completions.create(model=\"gpt-4o-mini\", messages=messages)\n",
    "reply = response.choices[0].message.content"
   ]
  },
  {
   "cell_type": "code",
   "execution_count": 17,
   "id": "6175e7f7",
   "metadata": {},
   "outputs": [
    {
     "data": {
      "text/plain": [
       "'Yes, I hold a patent that was awarded to me as part of my work at The Aerospace Corporation. I have also received the Aerospace Patent Invention Award in 2024, which recognizes innovations and contributions to the field. If you would like more details about the patent or my inventions, feel free to ask!'"
      ]
     },
     "execution_count": 17,
     "metadata": {},
     "output_type": "execute_result"
    }
   ],
   "source": [
    "reply"
   ]
  },
  {
   "cell_type": "code",
   "execution_count": 18,
   "id": "982b8165",
   "metadata": {},
   "outputs": [
    {
     "data": {
      "text/plain": [
       "Evaluation(is_acceptable=True, feedback='The response is acceptable. It accurately answers the question based on the context provided, and it maintains a professional and engaging tone. It also offers to provide more details, which is a nice touch.')"
      ]
     },
     "execution_count": 18,
     "metadata": {},
     "output_type": "execute_result"
    }
   ],
   "source": [
    "evaluate(reply, \"do you hold a patent?\", messages[:1])"
   ]
  },
  {
   "cell_type": "code",
   "execution_count": 19,
   "id": "aa35d6d0",
   "metadata": {},
   "outputs": [],
   "source": [
    "def rerun(reply, message, history, feedback):\n",
    "    updated_system_prompt = system_prompt + \"\\n\\n## Previous answer rejected\\nYou just tried to reply, but the quality control rejected your reply\\n\"\n",
    "    updated_system_prompt += f\"## Your attempted answer:\\n{reply}\\n\\n\"\n",
    "    updated_system_prompt += f\"## Reason for rejection:\\n{feedback}\\n\\n\"\n",
    "    messages = [{\"role\": \"system\", \"content\": updated_system_prompt}] + history + [{\"role\": \"user\", \"content\": message}]\n",
    "    response = openai.chat.completions.create(model=\"gpt-4o-mini\", messages=messages)\n",
    "    return response.choices[0].message.content"
   ]
  },
  {
   "cell_type": "code",
   "execution_count": 20,
   "id": "3cc75e14",
   "metadata": {},
   "outputs": [],
   "source": [
    "def chat(message, history):\n",
    "\n",
    "    system = system_prompt\n",
    "    messages = [{\"role\": \"system\", \"content\": system}] + history + [{\"role\": \"user\", \"content\": message}]\n",
    "    response = openai.chat.completions.create(model=\"gpt-4o-mini\", messages=messages)\n",
    "    reply =response.choices[0].message.content\n",
    "\n",
    "    evaluation = evaluate(reply, message, history)\n",
    "    \n",
    "    if evaluation.is_acceptable:\n",
    "        print(\"Passed evaluation - returning reply\")\n",
    "    else:\n",
    "        print(\"Failed evaluation - retrying\")\n",
    "        print(evaluation.feedback)\n",
    "        reply = rerun(reply, message, history, evaluation.feedback)       \n",
    "    return reply"
   ]
  },
  {
   "cell_type": "code",
   "execution_count": null,
   "id": "148afa01",
   "metadata": {},
   "outputs": [
    {
     "name": "stdout",
     "output_type": "stream",
     "text": [
      "* Running on local URL:  http://127.0.0.1:7861\n",
      "* To create a public link, set `share=True` in `launch()`.\n"
     ]
    },
    {
     "data": {
      "text/html": [
       "<div><iframe src=\"http://127.0.0.1:7861/\" width=\"100%\" height=\"500\" allow=\"autoplay; camera; microphone; clipboard-read; clipboard-write;\" frameborder=\"0\" allowfullscreen></iframe></div>"
      ],
      "text/plain": [
       "<IPython.core.display.HTML object>"
      ]
     },
     "metadata": {},
     "output_type": "display_data"
    },
    {
     "data": {
      "text/plain": []
     },
     "execution_count": 21,
     "metadata": {},
     "output_type": "execute_result"
    },
    {
     "name": "stdout",
     "output_type": "stream",
     "text": [
      "Passed evaluation - returning reply\n",
      "Passed evaluation - returning reply\n"
     ]
    }
   ],
   "source": [
    "gr.ChatInterface(chat, type=\"messages\").launch()"
   ]
  },
  {
   "cell_type": "code",
   "execution_count": null,
   "id": "a119dd1e",
   "metadata": {},
   "outputs": [],
   "source": []
  }
 ],
 "metadata": {
  "kernelspec": {
   "display_name": ".venv",
   "language": "python",
   "name": "python3"
  },
  "language_info": {
   "codemirror_mode": {
    "name": "ipython",
    "version": 3
   },
   "file_extension": ".py",
   "mimetype": "text/x-python",
   "name": "python",
   "nbconvert_exporter": "python",
   "pygments_lexer": "ipython3",
   "version": "3.12.11"
  }
 },
 "nbformat": 4,
 "nbformat_minor": 5
}
